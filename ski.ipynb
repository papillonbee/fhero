{
  "nbformat": 4,
  "nbformat_minor": 0,
  "metadata": {
    "colab": {
      "name": "ski.ipynb",
      "provenance": [],
      "collapsed_sections": [],
      "include_colab_link": true
    },
    "kernelspec": {
      "name": "python3",
      "display_name": "Python 3"
    }
  },
  "cells": [
    {
      "cell_type": "markdown",
      "metadata": {
        "id": "view-in-github",
        "colab_type": "text"
      },
      "source": [
        "<a href=\"https://colab.research.google.com/github/papillonbee/fhero/blob/master/ski.ipynb\" target=\"_parent\"><img src=\"https://colab.research.google.com/assets/colab-badge.svg\" alt=\"Open In Colab\"/></a>"
      ]
    },
    {
      "cell_type": "markdown",
      "metadata": {
        "id": "JwFNq784xOM4",
        "colab_type": "text"
      },
      "source": [
        "Papan Yongmalwong"
      ]
    },
    {
      "cell_type": "markdown",
      "metadata": {
        "id": "R5wM4TfK5xdM",
        "colab_type": "text"
      },
      "source": [
        "#Ski Problem"
      ]
    },
    {
      "cell_type": "code",
      "metadata": {
        "id": "6ZK3IGTsVTF4",
        "colab_type": "code",
        "outputId": "053fef4c-a5f1-40f9-d0a0-71123e89813b",
        "colab": {
          "base_uri": "https://localhost:8080/",
          "height": 88
        }
      },
      "source": [
        "!pip install ski"
      ],
      "execution_count": 0,
      "outputs": [
        {
          "output_type": "stream",
          "text": [
            "Collecting ski\n",
            "  Downloading https://files.pythonhosted.org/packages/41/43/57b0b03f16319e4166ce98bf3805306ba18da1290ad3edaa825f5422cb9f/ski-0.0.17-py3-none-any.whl\n",
            "Installing collected packages: ski\n",
            "Successfully installed ski-0.0.17\n"
          ],
          "name": "stdout"
        }
      ]
    },
    {
      "cell_type": "code",
      "metadata": {
        "id": "-S4AUiVGlgtr",
        "colab_type": "code",
        "colab": {}
      },
      "source": [
        "from ski import ski"
      ],
      "execution_count": 0,
      "outputs": []
    },
    {
      "cell_type": "code",
      "metadata": {
        "id": "YyTepSes7hCX",
        "colab_type": "code",
        "colab": {}
      },
      "source": [
        "ski.set_params(sales=3,\n",
        "               wholesale=5,\n",
        "               retail=7,\n",
        "               r=.1,\n",
        "               alpha=1/(1+.1),\n",
        "               N=7,\n",
        "               M=10,\n",
        "               lam=5)"
      ],
      "execution_count": 0,
      "outputs": []
    },
    {
      "cell_type": "markdown",
      "metadata": {
        "id": "zpep-WoG50Fb",
        "colab_type": "text"
      },
      "source": [
        "## Solved by MDP"
      ]
    },
    {
      "cell_type": "markdown",
      "metadata": {
        "id": "b29hzbZL55a1",
        "colab_type": "text"
      },
      "source": [
        "Markov Decision Process"
      ]
    },
    {
      "cell_type": "code",
      "metadata": {
        "id": "FNacOkecfOQr",
        "colab_type": "code",
        "colab": {}
      },
      "source": [
        "state = (1,0)"
      ],
      "execution_count": 0,
      "outputs": []
    },
    {
      "cell_type": "code",
      "metadata": {
        "id": "rUKWjW5I7ygJ",
        "colab_type": "code",
        "colab": {}
      },
      "source": [
        "ans = ski.solve()"
      ],
      "execution_count": 0,
      "outputs": []
    },
    {
      "cell_type": "code",
      "metadata": {
        "id": "tXlfU-ouWdwB",
        "colab_type": "code",
        "outputId": "01277c06-f145-49a0-ae34-39196402b0d4",
        "colab": {
          "base_uri": "https://localhost:8080/",
          "height": 35
        }
      },
      "source": [
        "ans['opt_reward'][state]"
      ],
      "execution_count": 0,
      "outputs": [
        {
          "output_type": "execute_result",
          "data": {
            "text/plain": [
              "13.603545793168484"
            ]
          },
          "metadata": {
            "tags": []
          },
          "execution_count": 6
        }
      ]
    },
    {
      "cell_type": "code",
      "metadata": {
        "id": "Is328s9Ulr4T",
        "colab_type": "code",
        "outputId": "a3c70cf8-a632-4d9e-e5f1-6aa3b6dea6a4",
        "colab": {
          "base_uri": "https://localhost:8080/",
          "height": 212
        }
      },
      "source": [
        "ans['reward'][state]"
      ],
      "execution_count": 0,
      "outputs": [
        {
          "output_type": "execute_result",
          "data": {
            "text/plain": [
              "{0: 10.653249154694414,\n",
              " 1: 11.550089251059713,\n",
              " 2: 12.385675283796964,\n",
              " 3: 13.068126157464087,\n",
              " 4: 13.49535176601434,\n",
              " 5: 13.603545793168484,\n",
              " 6: 13.39140881367748,\n",
              " 7: 12.905236478089684,\n",
              " 8: 12.203206459883162,\n",
              " 9: 11.326755955193992,\n",
              " 10: 10.292723056373205}"
            ]
          },
          "metadata": {
            "tags": []
          },
          "execution_count": 7
        }
      ]
    },
    {
      "cell_type": "code",
      "metadata": {
        "id": "0qZuERY9edFG",
        "colab_type": "code",
        "outputId": "a8d65481-a516-45a0-ae13-f2cdc3a1b628",
        "colab": {
          "base_uri": "https://localhost:8080/",
          "height": 35
        }
      },
      "source": [
        "action = 5\n",
        "ans['reward'][state][action]"
      ],
      "execution_count": 0,
      "outputs": [
        {
          "output_type": "execute_result",
          "data": {
            "text/plain": [
              "13.603545793168484"
            ]
          },
          "metadata": {
            "tags": []
          },
          "execution_count": 8
        }
      ]
    },
    {
      "cell_type": "markdown",
      "metadata": {
        "colab_type": "text",
        "id": "C3inFmvSekGD"
      },
      "source": [
        "## Solved by MC"
      ]
    },
    {
      "cell_type": "markdown",
      "metadata": {
        "colab_type": "text",
        "id": "T686qRq2ekGJ"
      },
      "source": [
        "Monte Carlo (Reinforcement Learning)"
      ]
    },
    {
      "cell_type": "code",
      "metadata": {
        "id": "HKR-aCfpfL9D",
        "colab_type": "code",
        "colab": {}
      },
      "source": [
        "state = (1,0)"
      ],
      "execution_count": 0,
      "outputs": []
    },
    {
      "cell_type": "code",
      "metadata": {
        "id": "JRQ8p1sOTnJs",
        "colab_type": "code",
        "colab": {}
      },
      "source": [
        "ans = ski.solve(method='mc',epsilon_greedy='decayed')"
      ],
      "execution_count": 0,
      "outputs": []
    },
    {
      "cell_type": "code",
      "metadata": {
        "id": "E6hdue3xXDfU",
        "colab_type": "code",
        "outputId": "7ae09482-a176-4fff-b637-888964ad4d82",
        "colab": {
          "base_uri": "https://localhost:8080/",
          "height": 35
        }
      },
      "source": [
        "ans['est_opt_reward'][state]"
      ],
      "execution_count": 0,
      "outputs": [
        {
          "output_type": "execute_result",
          "data": {
            "text/plain": [
              "12.027731355165798"
            ]
          },
          "metadata": {
            "tags": []
          },
          "execution_count": 92
        }
      ]
    },
    {
      "cell_type": "code",
      "metadata": {
        "id": "UW3O8gPIbAnN",
        "colab_type": "code",
        "outputId": "6cf4037e-a60e-4618-b4e3-0be3e54f04c6",
        "colab": {
          "base_uri": "https://localhost:8080/",
          "height": 212
        }
      },
      "source": [
        "ans['est_reward'][state]"
      ],
      "execution_count": 0,
      "outputs": [
        {
          "output_type": "execute_result",
          "data": {
            "text/plain": [
              "{0: 7.388748679836588,\n",
              " 1: 9.161389049236547,\n",
              " 2: 9.30100951974357,\n",
              " 3: 9.925625955481047,\n",
              " 4: 10.621885946286286,\n",
              " 5: 12.027731355165798,\n",
              " 6: 10.641965506608182,\n",
              " 7: 9.71499423412369,\n",
              " 8: 9.402318878434983,\n",
              " 9: 7.308591739923452,\n",
              " 10: 8.524489265270986}"
            ]
          },
          "metadata": {
            "tags": []
          },
          "execution_count": 93
        }
      ]
    },
    {
      "cell_type": "code",
      "metadata": {
        "id": "xvFgZxRbfTV3",
        "colab_type": "code",
        "outputId": "24da3c71-6334-4531-d93d-cfa0af68ace7",
        "colab": {
          "base_uri": "https://localhost:8080/",
          "height": 35
        }
      },
      "source": [
        "action = 5\n",
        "ans['est_reward'][state][action]"
      ],
      "execution_count": 0,
      "outputs": [
        {
          "output_type": "execute_result",
          "data": {
            "text/plain": [
              "12.027731355165798"
            ]
          },
          "metadata": {
            "tags": []
          },
          "execution_count": 94
        }
      ]
    },
    {
      "cell_type": "code",
      "metadata": {
        "id": "MzUIVnddWNVC",
        "colab_type": "code",
        "outputId": "d9d98772-8fa8-47ae-ac92-f20d724e4939",
        "colab": {
          "base_uri": "https://localhost:8080/",
          "height": 212
        }
      },
      "source": [
        "ans['visit'][state]"
      ],
      "execution_count": 0,
      "outputs": [
        {
          "output_type": "execute_result",
          "data": {
            "text/plain": [
              "{0: 200,\n",
              " 1: 220,\n",
              " 2: 248,\n",
              " 3: 217,\n",
              " 4: 216,\n",
              " 5: 7757,\n",
              " 6: 237,\n",
              " 7: 251,\n",
              " 8: 237,\n",
              " 9: 197,\n",
              " 10: 220}"
            ]
          },
          "metadata": {
            "tags": []
          },
          "execution_count": 95
        }
      ]
    },
    {
      "cell_type": "code",
      "metadata": {
        "id": "ScsoXB48bjpU",
        "colab_type": "code",
        "outputId": "eee99a9e-ba97-4845-db39-ba49e4c89579",
        "colab": {
          "base_uri": "https://localhost:8080/",
          "height": 269
        }
      },
      "source": [
        "ans['plot']()"
      ],
      "execution_count": 0,
      "outputs": [
        {
          "output_type": "display_data",
          "data": {
            "image/png": "[encoded data removed]",
            "text/plain": [
              "<Figure size 432x288 with 1 Axes>"
            ]
          },
          "metadata": {
            "tags": []
          }
        }
      ]
    }
  ]
}